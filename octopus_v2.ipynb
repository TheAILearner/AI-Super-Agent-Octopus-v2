{
 "cells": [
  {
   "cell_type": "code",
   "execution_count": 1,
   "id": "99f978b0-6878-442f-8c9d-0632209df91f",
   "metadata": {},
   "outputs": [],
   "source": [
    "import torch\n",
    "import os\n",
    "import warnings \n",
    "warnings.filterwarnings('ignore')"
   ]
  },
  {
   "cell_type": "code",
   "execution_count": 2,
   "id": "fb007026-b503-4766-9e52-a58367081add",
   "metadata": {},
   "outputs": [
    {
     "data": {
      "text/plain": [
       "True"
      ]
     },
     "execution_count": 2,
     "metadata": {},
     "output_type": "execute_result"
    }
   ],
   "source": [
    "torch.cuda.is_available()"
   ]
  },
  {
   "cell_type": "markdown",
   "id": "a036bb67-29ac-4d51-a4c8-9050823785b0",
   "metadata": {},
   "source": [
    "## Initialize Octopus Model"
   ]
  },
  {
   "cell_type": "code",
   "execution_count": 3,
   "id": "5906f760-e623-492f-ab78-6c13b864ae18",
   "metadata": {},
   "outputs": [
    {
     "name": "stderr",
     "output_type": "stream",
     "text": [
      "Special tokens have been added in the vocabulary, make sure the associated word embeddings are fine-tuned or trained.\n",
      "Gemma's activation function should be approximate GeLU and not exact GeLU.\n",
      "Changing the activation function to `gelu_pytorch_tanh`.if you want to use the legacy `gelu`, edit the `model.config` to set `hidden_activation=gelu`   instead of `hidden_act`. See https://github.com/huggingface/transformers/pull/29402 for more details.\n"
     ]
    },
    {
     "data": {
      "application/vnd.jupyter.widget-view+json": {
       "model_id": "6515d72a54c54f719be516ddfed99ce8",
       "version_major": 2,
       "version_minor": 0
      },
      "text/plain": [
       "Loading checkpoint shards:   0%|          | 0/2 [00:00<?, ?it/s]"
      ]
     },
     "metadata": {},
     "output_type": "display_data"
    }
   ],
   "source": [
    "from transformers import AutoTokenizer\n",
    "from transformers import AutoModelForCausalLM\n",
    "\n",
    "\n",
    "model_id = \"./.cache/huggingface/hub/models--NexaAIDev--Octopus-v2/snapshots/octopus_v2\"\n",
    "tokenizer = AutoTokenizer.from_pretrained(model_id)\n",
    "octopus_model = AutoModelForCausalLM.from_pretrained(\n",
    "    model_id, torch_dtype=torch.bfloat16, device_map=\"cuda:0\"\n",
    ")"
   ]
  },
  {
   "cell_type": "markdown",
   "id": "e08134f5-7670-42a0-b1ea-7163565a7501",
   "metadata": {},
   "source": [
    "## Fetch function and argument from Octopus Model"
   ]
  },
  {
   "cell_type": "code",
   "execution_count": 4,
   "id": "47616bca-4f50-4523-84e3-6c15a3eebed4",
   "metadata": {},
   "outputs": [],
   "source": [
    "def run_octopus(input_text):\n",
    "    input_ids = tokenizer(input_text, return_tensors=\"pt\").to(octopus_model.device)\n",
    "    input_length = input_ids[\"input_ids\"].shape[1]\n",
    "    outputs = octopus_model.generate(\n",
    "        input_ids=input_ids[\"input_ids\"], \n",
    "        max_length=1024,\n",
    "        do_sample=False)\n",
    "    generated_sequence = outputs[:, input_length:].tolist()\n",
    "    res = tokenizer.decode(generated_sequence[0])\n",
    "\n",
    "    print(\"octopus result\", res)\n",
    "\n",
    "    # Use functional tokens to map to functions\n",
    "    \n",
    "    split = res.split(\"<\")\n",
    "    func_name, argument = \"\", \"\"\n",
    "    predicted_func_name = split[1].split(\">\")[0]\n",
    "    if predicted_func_name == \"nexa_2\":\n",
    "        func_name = \"get_weather_forecast\"\n",
    "        argument = split[1].split(\"'\")[1]\n",
    "    if predicted_func_name == \"nexa_13\":\n",
    "        func_name = \"set_volume\"\n",
    "        argument = split[1].split('(')[1].split(',')[0]\n",
    "\n",
    "    return func_name, argument"
   ]
  },
  {
   "cell_type": "code",
   "execution_count": 5,
   "id": "3a08f539-8e6b-489c-b81a-9b5e16e57f23",
   "metadata": {},
   "outputs": [
    {
     "name": "stdout",
     "output_type": "stream",
     "text": [
      "octopus result  I'm planning a trip.\n",
      "\n",
      "Answer: <nexa_2>('Mumbai')<nexa_end>\n",
      "\n",
      "Function description: \n",
      "def get_weather_forecast(location):\n",
      "    \"\"\"\n",
      "    Provides a weather forecast for a specified location over a given number of days. Each day's forecast includes a brief description of the expected weather conditions.\n",
      "\n",
      "    Parameters:\n",
      "    - location (str): The location for which the weather forecast is desired. Can be a city name, ZIP code, or other location identifiers.\n",
      "\n",
      "    Returns:\n",
      "    - list[str]: A list of strings, each representing the weather forecast for one day. Each string includes the date and a brief description of the weather conditions. Formatted in 'YYYY-MM-DD: Description' format.\n",
      "    \"\"\"\n",
      "<eos>\n",
      "get_weather_forecast Mumbai\n"
     ]
    }
   ],
   "source": [
    "query = \"How's weather in Mumbai?\"\n",
    "func_name, argument = run_octopus(query)\n",
    "print(func_name, argument)"
   ]
  },
  {
   "cell_type": "markdown",
   "id": "6f7a093d-2764-4be7-864f-f60846ce4b3a",
   "metadata": {},
   "source": [
    "## Initialize Speech to text Model"
   ]
  },
  {
   "cell_type": "code",
   "execution_count": 5,
   "id": "7348289e-57b8-4b53-9c53-cdf5d093ca5d",
   "metadata": {},
   "outputs": [
    {
     "name": "stderr",
     "output_type": "stream",
     "text": [
      "Special tokens have been added in the vocabulary, make sure the associated word embeddings are fine-tuned or trained.\n",
      "Special tokens have been added in the vocabulary, make sure the associated word embeddings are fine-tuned or trained.\n"
     ]
    }
   ],
   "source": [
    "from transformers import AutoProcessor, SeamlessM4TModel\n",
    "import torchaudio\n",
    "import time\n",
    "\n",
    "processor = AutoProcessor.from_pretrained(\"facebook/hf-seamless-m4t-medium\")\n",
    "model = SeamlessM4TModel.from_pretrained(\"facebook/hf-seamless-m4t-medium\")"
   ]
  },
  {
   "cell_type": "markdown",
   "id": "e7f86790-0ef2-4d8f-9ff8-12ed13a708e6",
   "metadata": {},
   "source": [
    "## Define function to extract text from speech"
   ]
  },
  {
   "cell_type": "code",
   "execution_count": 6,
   "id": "1be857c0-c4b7-4182-ba8c-07acdef7f7e5",
   "metadata": {},
   "outputs": [],
   "source": [
    "def speech_to_text(filepath):\n",
    "    t1 = time.time()\n",
    "    audio, orig_freq =  torchaudio.load(filepath, backend = \"soundfile\")\n",
    "    audio =  torchaudio.functional.resample(audio, orig_freq=orig_freq, new_freq=16_000)\n",
    "    audio_inputs = processor(audios=audio, return_tensors=\"pt\")\n",
    "    output_tokens = model.generate(**audio_inputs, tgt_lang=\"eng\", generate_speech = False)\n",
    "    generated_text_from_audio = processor.decode(output_tokens[0].tolist()[0], skip_special_tokens = True)\n",
    "\n",
    "    print(\"Time taken for speech to text: \", time.time() - t1)\n",
    "    print(\"Speech to text output: \", generated_text_from_audio)\n",
    "\n",
    "    return generated_text_from_audio"
   ]
  },
  {
   "cell_type": "markdown",
   "id": "ce9930d7-b391-4dd4-80cb-f954d6b3389f",
   "metadata": {},
   "source": [
    "## Volume Function"
   ]
  },
  {
   "cell_type": "code",
   "execution_count": 7,
   "id": "fb483130-2f84-4244-b0db-4345d86eedcd",
   "metadata": {},
   "outputs": [],
   "source": [
    "def set_volume(level):\n",
    "    level = int(level)\n",
    "    if level == 0:\n",
    "        command = 'FOR /L %G IN (1,1,15) DO adb shell input keyevent KEYCODE_VOLUME_DOWN'\n",
    "        os.system(f\"start /wait cmd /k {command}\")\n",
    "    else:\n",
    "        command = f'FOR /L %G IN (1,1,{level}) DO adb shell input keyevent KEYCODE_VOLUME_UP'\n",
    "        os.system(f\"start /wait cmd /k {command}\")\n",
    "        "
   ]
  },
  {
   "cell_type": "markdown",
   "id": "e854aa14-b0d9-4c97-9bef-2eae745634e2",
   "metadata": {},
   "source": [
    "## Weather Function"
   ]
  },
  {
   "cell_type": "code",
   "execution_count": 8,
   "id": "47739ce3-86c8-47b8-9838-e885e0101a76",
   "metadata": {},
   "outputs": [],
   "source": [
    "def get_weather_forecast(place):\n",
    "    command = f'adb shell am start -a android.intent.action.VIEW -d https://www.google.com/search?q=Weather+of+{place}'\n",
    "    os.system(f\"start /wait cmd /k {command}\")"
   ]
  },
  {
   "cell_type": "markdown",
   "id": "5fa7055b-ac70-4089-bad3-8d5d66b0061b",
   "metadata": {},
   "source": [
    "## Call functions on Emulator"
   ]
  },
  {
   "cell_type": "code",
   "execution_count": 9,
   "id": "b11994cf-6429-44dc-9a88-331ada7a190b",
   "metadata": {},
   "outputs": [],
   "source": [
    "def run_sdb(function_name, argument):\n",
    "    \n",
    "    func = globals().get(function_name)\n",
    "    func(argument)"
   ]
  },
  {
   "cell_type": "markdown",
   "id": "a242df8a-e9c0-4700-a881-6b594c778987",
   "metadata": {},
   "source": [
    "## Gradio for UI and Record Audio"
   ]
  },
  {
   "cell_type": "code",
   "execution_count": 10,
   "id": "d1125056-610f-4591-9a28-f43fb30dd287",
   "metadata": {},
   "outputs": [
    {
     "name": "stdout",
     "output_type": "stream",
     "text": [
      "Running on local URL:  http://127.0.0.1:7860\n",
      "\n",
      "To create a public link, set `share=True` in `launch()`.\n"
     ]
    },
    {
     "data": {
      "text/html": [
       "<div><iframe src=\"http://127.0.0.1:7860/\" width=\"100%\" height=\"500\" allow=\"autoplay; camera; microphone; clipboard-read; clipboard-write;\" frameborder=\"0\" allowfullscreen></iframe></div>"
      ],
      "text/plain": [
       "<IPython.core.display.HTML object>"
      ]
     },
     "metadata": {},
     "output_type": "display_data"
    },
    {
     "data": {
      "text/plain": []
     },
     "execution_count": 10,
     "metadata": {},
     "output_type": "execute_result"
    },
    {
     "name": "stderr",
     "output_type": "stream",
     "text": [
      "It is strongly recommended to pass the `sampling_rate` argument to this function. Failing to do so can result in silent errors that might be hard to debug.\n"
     ]
    },
    {
     "name": "stdout",
     "output_type": "stream",
     "text": [
      "Time taken for speech to text:  4.278639554977417\n",
      "Speech to text output:  How's the weather in Mumbai?\n",
      "How's the weather in Mumbai?\n",
      "octopus result  I'm planning a trip.\n",
      "\n",
      "Response: <nexa_2>('Mumbai')<nexa_end>\n",
      "\n",
      "Function description: \n",
      "def get_weather_forecast(location):\n",
      "    \"\"\"\n",
      "    Provides a weather forecast for a specified location over a given number of days. Each day's forecast includes a brief description of the expected weather conditions.\n",
      "\n",
      "    Parameters:\n",
      "    - location (str): The location for which the weather forecast is desired. Can be a city name, ZIP code, or other location identifiers.\n",
      "\n",
      "    Returns:\n",
      "    - list[str]: A list of strings, each representing the weather forecast for one day. Each string includes the date and a brief description of the weather conditions. Formatted in 'YYYY-MM-DD: Description' format.\n",
      "    \"\"\"\n",
      "<eos>\n",
      "get_weather_forecast Mumbai\n"
     ]
    }
   ],
   "source": [
    "import gradio as gr\n",
    "\n",
    "with gr.Blocks() as demo:\n",
    "\n",
    "    audio = gr.Audio(source = \"microphone\", type = \"filepath\", label = \"Record\")\n",
    "    with gr.Row():\n",
    "        submit = gr.Button(\"Submit\")\n",
    "        clear = gr.ClearButton([audio])\n",
    "\n",
    "    def user(filepath):\n",
    "        user_message = speech_to_text(filepath)\n",
    "        print(user_message)\n",
    "        func_name, argument = run_octopus(user_message)\n",
    "        print(func_name, argument)\n",
    "        run_sdb(func_name, argument)\n",
    "\n",
    "    submit.click(user, [audio], [], queue=False)\n",
    "    \n",
    "demo.queue()\n",
    "demo.launch()"
   ]
  },
  {
   "cell_type": "code",
   "execution_count": null,
   "id": "b0af8054-4d42-4f25-845a-6189fe6bc283",
   "metadata": {},
   "outputs": [],
   "source": []
  }
 ],
 "metadata": {
  "kernelspec": {
   "display_name": "Python 3 (ipykernel)",
   "language": "python",
   "name": "python3"
  },
  "language_info": {
   "codemirror_mode": {
    "name": "ipython",
    "version": 3
   },
   "file_extension": ".py",
   "mimetype": "text/x-python",
   "name": "python",
   "nbconvert_exporter": "python",
   "pygments_lexer": "ipython3",
   "version": "3.9.17"
  }
 },
 "nbformat": 4,
 "nbformat_minor": 5
}
